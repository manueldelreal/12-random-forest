{
 "cells": [
  {
   "cell_type": "markdown",
   "metadata": {},
   "source": [
    "<img src=\"http://imgur.com/1ZcRyrc.png\" style=\"float: left; margin: 20px; height: 55px\">\n",
    "\n",
    "# Modelling lab: Can we predict risk of bankruptcy?"
   ]
  },
  {
   "cell_type": "markdown",
   "metadata": {},
   "source": [
    "In this exercise we will try to predict companies that go bankrupt in the next 5 years, based on various numeric financial attributes. The dataset describes Polish companies and their financial accounts, and further information is [available here](https://archive.ics.uci.edu/ml/datasets/Polish+companies+bankruptcy+data). For this exercise we chose only the companies that went bankrupt within 5 years (one of the five available datasets on the site).\n",
    "\n",
    "# Part 1 - Exploratory data analysis\n",
    "\n",
    "### 1. Load the data\n",
    "\n",
    "Look at the usual things:\n",
    "\n",
    "- how many rows/columns?\n",
    "- what are the data types?\n",
    "- any missing values?"
   ]
  },
  {
   "cell_type": "code",
   "execution_count": null,
   "metadata": {},
   "outputs": [],
   "source": []
  },
  {
   "cell_type": "markdown",
   "metadata": {},
   "source": [
    "### 2. Examine the target\n",
    "\n",
    "The target is the final column, `bankruptcy_label` (1 if the company went bankrupt within 5 years).\n",
    "\n",
    "What is the distribution of the target?"
   ]
  },
  {
   "cell_type": "code",
   "execution_count": null,
   "metadata": {},
   "outputs": [],
   "source": []
  },
  {
   "cell_type": "markdown",
   "metadata": {},
   "source": [
    "### 3. Create a heatmap showing the correlations within your features\n",
    "\n",
    "It's generally a good idea to see how your features correlate to each other, to identify columns that perhaps encode the same information. We'll do this by calculating the correlation matrix (how every column correlates with every other) and inspect it visually as a heatmap.\n",
    "\n",
    "#### 3. a. Get a correlation matrix of your features (hint: there's a built in `pandas` function for that!"
   ]
  },
  {
   "cell_type": "code",
   "execution_count": null,
   "metadata": {},
   "outputs": [],
   "source": []
  },
  {
   "cell_type": "markdown",
   "metadata": {},
   "source": [
    "#### 3. b. Use `seaborn` to plot a heatmap of your correlation matrix\n",
    "\n",
    "You will need to play around with the plotting options to get a clear view of where the correlations are"
   ]
  },
  {
   "cell_type": "code",
   "execution_count": null,
   "metadata": {},
   "outputs": [],
   "source": []
  },
  {
   "cell_type": "markdown",
   "metadata": {},
   "source": [
    "### 3. c. Dig into it a bit more, and find the top few strongest correlated column pairs"
   ]
  },
  {
   "cell_type": "code",
   "execution_count": null,
   "metadata": {},
   "outputs": [],
   "source": []
  },
  {
   "cell_type": "markdown",
   "metadata": {},
   "source": [
    "### 4. Look at the distribution of your variables for bankrupt vs. non-bankrupt companies\n",
    "\n",
    "We're looking for cases where the distribution of a feature is different for bankrupt companies, suggesting that it would be a good feature to separate the classes.\n",
    "\n",
    "You could start by comparing the average value of each feature for bankrupt vs. non-bankrupt companies, or as a bonus plot the actual distribution (using histograms, box plots or similar)."
   ]
  },
  {
   "cell_type": "code",
   "execution_count": null,
   "metadata": {},
   "outputs": [],
   "source": []
  },
  {
   "cell_type": "markdown",
   "metadata": {},
   "source": [
    "### 5. Based on findings from above, combined with your domain knowledge, choose 5 features with which to build a first predictive model\n",
    "\n",
    "It is usually a good idea to choose uncorrelated features, and in the case of classification those that suggest a separation between labels 0 and 1 (i.e. features that are distinctly different for bankrupt and non-bankrupt companies)."
   ]
  },
  {
   "cell_type": "code",
   "execution_count": null,
   "metadata": {},
   "outputs": [],
   "source": []
  },
  {
   "cell_type": "markdown",
   "metadata": {},
   "source": [
    "# Part 2 - Prediction"
   ]
  },
  {
   "cell_type": "markdown",
   "metadata": {},
   "source": [
    "### 1. Using the features you selected above, create training and test sets\n",
    "\n",
    "Ensure that both your training and test sets have the same distribution of bankrupt/non-bankrupt companies. You can use a specific parameter when splitting your data to achieve this."
   ]
  },
  {
   "cell_type": "code",
   "execution_count": null,
   "metadata": {},
   "outputs": [],
   "source": []
  },
  {
   "cell_type": "markdown",
   "metadata": {},
   "source": [
    "### 2. Choose an appropriate metric for evaluating your predictions\n",
    "\n",
    "Think about:\n",
    "\n",
    "- the problem itself: is it classification (binary? multi-class?)/regression?\n",
    "- the distribution of your target: does this change which metrics are appropriate?"
   ]
  },
  {
   "cell_type": "code",
   "execution_count": null,
   "metadata": {},
   "outputs": [],
   "source": []
  },
  {
   "cell_type": "markdown",
   "metadata": {},
   "source": [
    "### 3. Train *two* different predictive models\n",
    "\n",
    "- Choose two different models to train\n",
    "- Think about best practices:\n",
    "    - Only train using the training set\n",
    "    - Use cross-validation to get a better estimate of performance on unseen data\n",
    "    - Use grid search to optimise your models' hyperparameters"
   ]
  },
  {
   "cell_type": "code",
   "execution_count": null,
   "metadata": {},
   "outputs": [],
   "source": []
  },
  {
   "cell_type": "markdown",
   "metadata": {},
   "source": [
    "### 4. Evaluate your models on the *training* set\n",
    "\n",
    "Go deeper than the single metric you used for training. Try showing the confusion matrix for both models - what can you see?"
   ]
  },
  {
   "cell_type": "code",
   "execution_count": null,
   "metadata": {},
   "outputs": [],
   "source": []
  },
  {
   "cell_type": "markdown",
   "metadata": {},
   "source": [
    "# Part 3 - Improvements\n",
    "\n",
    "Time to improve your models. There are many different things you can do here including:\n",
    "\n",
    "- choosing more/different features\n",
    "- trying to tune more hyperparameters (if they exist)\n",
    "- trying a third model\n",
    "- tuning other aspects of the prediction process (e.g. changing the cutoff for predicting 1 instead of 0 from the default of 0.5, that is: if your model predicts a company is 50% or more likely to be bankrupt it will predict \"bankrupt\". Changing this threshold may help improve its performance)\n",
    "\n",
    "Further reading is available for example in this excellent article [Learning from Imbalanced Classes](https://www.svds.com/learning-imbalanced-classes/)"
   ]
  },
  {
   "cell_type": "markdown",
   "metadata": {},
   "source": [
    "### 1. Try something to improve your best performing model from above"
   ]
  },
  {
   "cell_type": "code",
   "execution_count": null,
   "metadata": {},
   "outputs": [],
   "source": []
  },
  {
   "cell_type": "markdown",
   "metadata": {},
   "source": [
    "### 2. Interpret your best model by extracting feature importances (if possible)"
   ]
  },
  {
   "cell_type": "code",
   "execution_count": null,
   "metadata": {},
   "outputs": [],
   "source": []
  },
  {
   "cell_type": "markdown",
   "metadata": {},
   "source": [
    "### 3. Finally, evaluate your best model on the test set - how did it do?"
   ]
  },
  {
   "cell_type": "code",
   "execution_count": null,
   "metadata": {},
   "outputs": [],
   "source": []
  }
 ],
 "metadata": {
  "kernelspec": {
   "display_name": "Python 3",
   "language": "python",
   "name": "python3"
  },
  "language_info": {
   "codemirror_mode": {
    "name": "ipython",
    "version": 3
   },
   "file_extension": ".py",
   "mimetype": "text/x-python",
   "name": "python",
   "nbconvert_exporter": "python",
   "pygments_lexer": "ipython3",
   "version": "3.8.2"
  }
 },
 "nbformat": 4,
 "nbformat_minor": 4
}
