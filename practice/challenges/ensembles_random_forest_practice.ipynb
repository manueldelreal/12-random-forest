{
 "cells": [
  {
   "cell_type": "markdown",
   "metadata": {
    "ExecuteTime": {
     "end_time": "2020-03-11T05:24:28.451292Z",
     "start_time": "2020-03-11T05:24:28.442838Z"
    }
   },
   "source": [
    "<img src=\"http://imgur.com/1ZcRyrc.png\" style=\"float: left; margin: 20px; height: 55px\">\n",
    " \n",
    "# Ensembles and Random Forests - Practice\n",
    " \n",
    "_Author: B Rhodes (DC)_\n",
    "\n",
    "---"
   ]
  },
  {
   "cell_type": "markdown",
   "metadata": {},
   "source": [
    "## Introduction\n",
    "\n",
    "In this notebook, you'll build models using two tree-based ensemble models: bag of trees and random forest. \n",
    "We'll be working with a dataset to predict a salaries based on census data. \n",
    "\n",
    "### Objectives\n",
    "\n",
    "You will be able to: \n",
    "\n",
    "- Use `scikit-learn` to train a random forest model.  \n",
    "- Be able to determine the performance, of the model.\n",
    "- Identify, visualize and interpret the important features from an ensemble model.\n"
   ]
  },
  {
   "cell_type": "markdown",
   "metadata": {},
   "source": [
    "## Import data\n",
    "Below we will use information derived from census data to predict whether someone makes more or less than $50k/year. Our goal is to determine which factors best predict an individual's salary.\n",
    "\n",
    "Let's get our standard imports."
   ]
  },
  {
   "cell_type": "code",
   "execution_count": null,
   "metadata": {
    "ExecuteTime": {
     "end_time": "2020-03-11T14:36:56.092330Z",
     "start_time": "2020-03-11T14:36:52.080833Z"
    }
   },
   "outputs": [],
   "source": [
    "## imports\n"
   ]
  },
  {
   "cell_type": "markdown",
   "metadata": {},
   "source": [
    "The dataset is stored in the file `'salaries_census.csv'`.  \n",
    "\n",
    "**Steps**: \n",
    "1. Import the dataset from the file above and store it in a DataFrame. The data file includes an index, so be sure to set the `index_col` parameter to `0`.  \n",
    "2. Verify that everything loaded correctly.\n",
    "3. Perform a little EDA."
   ]
  },
  {
   "cell_type": "code",
   "execution_count": null,
   "metadata": {
    "ExecuteTime": {
     "end_time": "2020-03-11T14:36:58.031000Z",
     "start_time": "2020-03-11T14:36:57.943787Z"
    },
    "scrolled": true
   },
   "outputs": [],
   "source": [
    "# Import the data\n",
    "path = '../data/salaries_census.csv'\n",
    "\n",
    "# load the data into a dataframe \n"
   ]
  },
  {
   "cell_type": "markdown",
   "metadata": {},
   "source": [
    "### **Task**: Perform some EDA"
   ]
  },
  {
   "cell_type": "code",
   "execution_count": null,
   "metadata": {
    "ExecuteTime": {
     "end_time": "2020-03-11T14:38:15.885295Z",
     "start_time": "2020-03-11T14:38:15.858235Z"
    }
   },
   "outputs": [],
   "source": [
    "# check the .info() or .dtypes\n"
   ]
  },
  {
   "cell_type": "markdown",
   "metadata": {},
   "source": [
    "We have six (6) features and one (1) independent variable:\n",
    "\n",
    "- `Age`: continuous \n",
    "\n",
    "- `Education`: Categorical. Bachelors, Some-college, 11th, HS-grad, Prof-school, Assoc-acdm, Assoc-voc, 9th, 7th-8th, 12th, Masters, 1st-4th, 10th, Doctorate, 5th-6th, Preschool \n",
    "\n",
    "- `Occupation`: Tech-support, Craft-repair, Other-service, Sales, Exec-managerial, Prof-specialty, Handlers-cleaners, Machine-op-inspct, Adm-clerical, Farming-fishing, Transport-moving, Priv-house-serv, Protective-serv, Armed-Forces \n",
    "\n",
    "- `Relationship`: Wife, Own-child, Husband, Not-in-family, Other-relative, Unmarried \n",
    "\n",
    "- `Race`: White, Asian-Pac-Islander, Amer-Indian-Eskimo, Other, Black \n",
    "\n",
    "- `Sex`: Female, Male \n",
    "\n",
    "- `Target`: `<= 50k` and `>50k`. Use `.map()` this to `<= 50k`:0 and `>50k`:1."
   ]
  },
  {
   "cell_type": "code",
   "execution_count": null,
   "metadata": {
    "ExecuteTime": {
     "end_time": "2020-03-11T14:39:26.166441Z",
     "start_time": "2020-03-11T14:39:26.146703Z"
    }
   },
   "outputs": [],
   "source": [
    "## map the target categories to 0 & 1 - reassign the target column.\n"
   ]
  },
  {
   "cell_type": "markdown",
   "metadata": {},
   "source": [
    "**Task**: Assign feature and target variables. Easiest way is to assign the `'Target'` column to a variable and then drop it from the dataset and assign the rest to another variable.\n",
    "\n",
    "*Hint*: Use conventional variable names for features and target."
   ]
  },
  {
   "cell_type": "code",
   "execution_count": null,
   "metadata": {
    "ExecuteTime": {
     "end_time": "2020-03-11T05:46:03.159779Z",
     "start_time": "2020-03-11T05:46:03.153711Z"
    }
   },
   "outputs": [],
   "source": [
    "# Split the outcome and predictor variables\n",
    "\n",
    "\n"
   ]
  },
  {
   "cell_type": "markdown",
   "metadata": {},
   "source": [
    "In the cell below, examine the data type of each column:  "
   ]
  },
  {
   "cell_type": "code",
   "execution_count": null,
   "metadata": {
    "ExecuteTime": {
     "end_time": "2020-03-11T05:46:14.991249Z",
     "start_time": "2020-03-11T05:46:14.979636Z"
    }
   },
   "outputs": [],
   "source": [
    "# Your code here\n"
   ]
  },
  {
   "cell_type": "markdown",
   "metadata": {},
   "source": [
    "**Task**: Create dummy variables to deal with the categorical features. Check the [pandas documentation](https://pandas.pydata.org/pandas-docs/stable/generated/pandas.get_dummies.html) to recall how to do this.  "
   ]
  },
  {
   "cell_type": "code",
   "execution_count": null,
   "metadata": {
    "ExecuteTime": {
     "end_time": "2020-03-11T05:46:26.836846Z",
     "start_time": "2020-03-11T05:46:26.788554Z"
    }
   },
   "outputs": [],
   "source": [
    "# Create dummy variables\n"
   ]
  },
  {
   "cell_type": "markdown",
   "metadata": {},
   "source": [
    "Perform a train/test split with a 75/25 split. Set the `random_state` to 42.  "
   ]
  },
  {
   "cell_type": "code",
   "execution_count": null,
   "metadata": {
    "ExecuteTime": {
     "end_time": "2020-03-11T05:46:29.510838Z",
     "start_time": "2020-03-11T05:46:29.493423Z"
    }
   },
   "outputs": [],
   "source": [
    "# Perform a test train split.\n"
   ]
  },
  {
   "cell_type": "markdown",
   "metadata": {},
   "source": [
    "## Build a Decision Tree for Comparison\n",
    "\n",
    "We'll begin by fitting a decision tree classifier (single tree) to provide a baseline and have something to compare to the ensemble methods.  "
   ]
  },
  {
   "cell_type": "markdown",
   "metadata": {},
   "source": [
    "### Build the tree\n",
    "\n",
    "**Task**: Instantiate and fit a decision tree classifier with the following parameters `criterion='gini'` and `max_depth=5`."
   ]
  },
  {
   "cell_type": "code",
   "execution_count": null,
   "metadata": {
    "ExecuteTime": {
     "end_time": "2020-03-11T05:46:31.077577Z",
     "start_time": "2020-03-11T05:46:31.016049Z"
    }
   },
   "outputs": [],
   "source": [
    "# Instantiate and fit a DecisionTreeClassifier\n"
   ]
  },
  {
   "cell_type": "markdown",
   "metadata": {},
   "source": [
    "### Feature Importance\n",
    "\n",
    "Let's explore the importance each feature used in our decision tree model. The trained classifier has an attribute `feature_importances_` that shows the relative importance of each feature. Display a sorted list of tuples in the form (feature, feature importance). *Hint*: use `zip()`."
   ]
  },
  {
   "cell_type": "code",
   "execution_count": null,
   "metadata": {
    "ExecuteTime": {
     "end_time": "2020-03-11T05:46:32.037851Z",
     "start_time": "2020-03-11T05:46:32.026102Z"
    }
   },
   "outputs": [],
   "source": [
    "# List the feature importances\n"
   ]
  },
  {
   "cell_type": "markdown",
   "metadata": {},
   "source": [
    "**Use the function below to visualize the data feature importances.**"
   ]
  },
  {
   "cell_type": "code",
   "execution_count": null,
   "metadata": {
    "ExecuteTime": {
     "end_time": "2020-03-11T05:59:49.364768Z",
     "start_time": "2020-03-11T05:59:48.979915Z"
    }
   },
   "outputs": [],
   "source": [
    "def plot_feature_importances(model):\n",
    "    n_features = X_train.shape[1]\n",
    "    plt.figure(figsize=(8,8))\n",
    "    plt.barh(range(n_features), model.feature_importances_, align='center') \n",
    "    plt.yticks(np.arange(n_features), X_train.columns.values) \n",
    "    plt.xlabel('Feature importance')\n",
    "    plt.ylabel('Feature')\n"
   ]
  },
  {
   "cell_type": "markdown",
   "metadata": {},
   "source": [
    "### Model performance\n",
    "\n",
    "Check the model performance on the test data. \n",
    "\n",
    "In the cells below:\n",
    "\n",
    "* Use the model to generate predictions on the test set  \n",
    "* Print out a `confusion_matrix` of the test set predictions \n",
    "* Print out a `classification_report` of the test set predictions "
   ]
  },
  {
   "cell_type": "code",
   "execution_count": null,
   "metadata": {
    "ExecuteTime": {
     "end_time": "2020-03-11T06:01:01.589688Z",
     "start_time": "2020-03-11T06:01:01.573245Z"
    }
   },
   "outputs": [],
   "source": [
    "# Test set predictions\n",
    "\n",
    "\n",
    "# Confusion matrix and classification report\n",
    "print('Confusion Matrix:')\n",
    "\n",
    "print()\n",
    "print(\"Classification Report\")\n"
   ]
  },
  {
   "cell_type": "code",
   "execution_count": null,
   "metadata": {
    "ExecuteTime": {
     "end_time": "2020-03-11T05:46:35.550221Z",
     "start_time": "2020-03-11T05:46:35.533425Z"
    }
   },
   "outputs": [],
   "source": []
  },
  {
   "cell_type": "markdown",
   "metadata": {},
   "source": [
    "Now, let's check the model's accuracy. Run the cell below to display the test set accuracy of the model. "
   ]
  },
  {
   "cell_type": "code",
   "execution_count": null,
   "metadata": {
    "ExecuteTime": {
     "end_time": "2020-03-11T05:46:36.964645Z",
     "start_time": "2020-03-11T05:46:36.956902Z"
    }
   },
   "outputs": [],
   "source": [
    "print(\"Testing Accuracy for Decision Tree Classifier: {:.4}%\".format( #YOURCODE HERE ) * 100))"
   ]
  },
  {
   "cell_type": "markdown",
   "metadata": {},
   "source": [
    "## Ensemble Method #1: Bagged Trees\n",
    "\n",
    "Use the bagging method (aka bag of trees) for our first ensemble method. \n",
    "\n",
    "**Tasks**:\n",
    "1. Instantiate and fit a BaggingClassifier ([check the documentation](http://scikit-learn.org/stable/modules/generated/sklearn.ensemble.BaggingClassifier.html)).  \n",
    "    1. Set the estimator to  a `DecisionTreeClassifier` with the same values from above for `criterion` and `max_depth`.  \n",
    "    2. Also set the `n_estimators` parameter for our `BaggingClassifier` to `20`. "
   ]
  },
  {
   "cell_type": "code",
   "execution_count": null,
   "metadata": {
    "ExecuteTime": {
     "end_time": "2020-03-11T06:03:37.099804Z",
     "start_time": "2020-03-11T06:03:36.659825Z"
    }
   },
   "outputs": [],
   "source": [
    "# Instantiate a BaggingClassifier\n",
    "\n",
    "# Fit to the training data\n"
   ]
  },
  {
   "cell_type": "markdown",
   "metadata": {},
   "source": [
    "**Task**: Use the `.score()` method to check the accuracy of the model on the training data. "
   ]
  },
  {
   "cell_type": "code",
   "execution_count": null,
   "metadata": {
    "ExecuteTime": {
     "end_time": "2020-03-11T05:46:40.052873Z",
     "start_time": "2020-03-11T05:46:39.938109Z"
    }
   },
   "outputs": [],
   "source": [
    "# Training accuracy score\n",
    "\n",
    "\n",
    "print(\"Training Accuracy for Bagging Classifier: {:.4}%\".format(bag_score_train * 100))\n"
   ]
  },
  {
   "cell_type": "markdown",
   "metadata": {},
   "source": [
    "**Task**: Use the `.score()` method to check the accuracy of the model on the testing data. "
   ]
  },
  {
   "cell_type": "code",
   "execution_count": null,
   "metadata": {
    "ExecuteTime": {
     "end_time": "2020-03-11T05:46:41.031527Z",
     "start_time": "2020-03-11T05:46:40.964803Z"
    }
   },
   "outputs": [],
   "source": [
    "# Test accuracy score\n",
    "\n",
    "print(\"Testing Accuracy for Bagging Classifier: {:.4}%\".format(bag_score_test * 100))\n",
    "\n"
   ]
  },
  {
   "cell_type": "markdown",
   "metadata": {},
   "source": [
    "## Random forests\n",
    "\n",
    "Another popular ensemble method is the **_Random Forest_**. Let's fit a random forest classifier next and see how it measures up compared to all the others. "
   ]
  },
  {
   "cell_type": "markdown",
   "metadata": {},
   "source": [
    "### Fit a random forests model"
   ]
  },
  {
   "cell_type": "markdown",
   "metadata": {},
   "source": [
    "In the cell below, instantiate and fit a `RandomForestClassifier`, and set the number estimators to `100` and the max depth to `5`. Then, fit the model to our training data. "
   ]
  },
  {
   "cell_type": "code",
   "execution_count": null,
   "metadata": {
    "ExecuteTime": {
     "end_time": "2020-03-11T05:46:43.173150Z",
     "start_time": "2020-03-11T05:46:42.589017Z"
    }
   },
   "outputs": [],
   "source": [
    "# Instantiate and fit a RandomForestClassifier\n",
    "\n",
    "\n",
    "# fit the classifier\n"
   ]
  },
  {
   "cell_type": "markdown",
   "metadata": {},
   "source": [
    "Now, let's check the training and testing accuracy of the model using its `.score()` method: "
   ]
  },
  {
   "cell_type": "code",
   "execution_count": null,
   "metadata": {
    "ExecuteTime": {
     "end_time": "2020-03-11T05:46:44.043118Z",
     "start_time": "2020-03-11T05:46:43.897227Z"
    }
   },
   "outputs": [],
   "source": [
    "# Training accuracy score\n",
    "\n",
    "print(\"Training Accuracy for Random Forest Classifier: {:.4}%\".format(rf_score_train * 100))"
   ]
  },
  {
   "cell_type": "code",
   "execution_count": null,
   "metadata": {
    "ExecuteTime": {
     "end_time": "2020-03-11T05:46:44.452263Z",
     "start_time": "2020-03-11T05:46:44.303798Z"
    }
   },
   "outputs": [],
   "source": [
    "# Test accuracy score\n",
    "\n",
    "print(\"Test Accuracy for Random Forest Classifier: {:.4}%\".format(rf_score_test * 100))"
   ]
  },
  {
   "cell_type": "markdown",
   "metadata": {},
   "source": [
    "### Feature importance"
   ]
  },
  {
   "cell_type": "code",
   "execution_count": null,
   "metadata": {
    "ExecuteTime": {
     "end_time": "2020-03-11T05:46:46.097760Z",
     "start_time": "2020-03-11T05:46:45.356428Z"
    }
   },
   "outputs": [],
   "source": [
    "# Plot the feature importance\n",
    "plot_feature_importances(forest)"
   ]
  },
  {
   "cell_type": "markdown",
   "metadata": {},
   "source": [
    "### Look at the trees in your forest"
   ]
  },
  {
   "cell_type": "markdown",
   "metadata": {},
   "source": [
    "Let's create a forest with some small trees. You'll learn how to access trees in your forest!\n",
    "\n",
    "In the cell below, create another `RandomForestClassifier`.  Set the number of estimators to 5, the `max_features` to 10, and the `max_depth` to 2."
   ]
  },
  {
   "cell_type": "code",
   "execution_count": null,
   "metadata": {
    "ExecuteTime": {
     "end_time": "2020-03-11T05:46:47.667731Z",
     "start_time": "2020-03-11T05:46:47.624850Z"
    }
   },
   "outputs": [],
   "source": [
    "# Instantiate and fit a RandomForestClassifier\n",
    "\n",
    "\n",
    "# Fit the classifier\n"
   ]
  },
  {
   "cell_type": "markdown",
   "metadata": {},
   "source": [
    "Changing `max_features` to smaller values will generate to different trees in your forest! The trees in your forest are stored in the `.estimators_` attribute.\n",
    "\n",
    "In the cell below, get the first tree from `forest_2.estimators_` and store it in `rf_tree_1`"
   ]
  },
  {
   "cell_type": "code",
   "execution_count": null,
   "metadata": {
    "ExecuteTime": {
     "end_time": "2020-03-11T06:11:04.339785Z",
     "start_time": "2020-03-11T06:11:04.331374Z"
    }
   },
   "outputs": [],
   "source": [
    "# Get the first tree from forest_2\n"
   ]
  },
  {
   "cell_type": "markdown",
   "metadata": {},
   "source": [
    "Use the `plot_feature_importances()` function to visualize which features this tree was given to use during subspace sampling. "
   ]
  },
  {
   "cell_type": "code",
   "execution_count": null,
   "metadata": {
    "ExecuteTime": {
     "end_time": "2020-03-11T06:11:06.703588Z",
     "start_time": "2020-03-11T06:11:06.365639Z"
    }
   },
   "outputs": [],
   "source": [
    "# Feature importance\n",
    "plot_feature_importances(rf_tree_1)"
   ]
  },
  {
   "cell_type": "markdown",
   "metadata": {},
   "source": [
    "Assign the second tree to `rf_tree_2`, and visualize it using `plot_feature_importances()`. "
   ]
  },
  {
   "cell_type": "code",
   "execution_count": null,
   "metadata": {
    "ExecuteTime": {
     "end_time": "2020-03-11T06:11:08.225882Z",
     "start_time": "2020-03-11T06:11:08.220861Z"
    }
   },
   "outputs": [],
   "source": [
    "# Second tree from forest_2\n"
   ]
  },
  {
   "cell_type": "code",
   "execution_count": null,
   "metadata": {
    "ExecuteTime": {
     "end_time": "2020-03-11T06:11:09.037746Z",
     "start_time": "2020-03-11T06:11:08.697570Z"
    }
   },
   "outputs": [],
   "source": [
    "# Feature importance\n",
    "plot_feature_importances(rf_tree_2)"
   ]
  },
  {
   "cell_type": "markdown",
   "metadata": {},
   "source": [
    "**Question**: What can you conclude about these two trees and what can you say about how random forests work?"
   ]
  },
  {
   "cell_type": "markdown",
   "metadata": {},
   "source": [
    "## Summary\n",
    "\n",
    "Above, we built a few different tree ensemble methods. We demonstrated how to visualize and interpret feature importances, as well as compare individual trees from a random forest to see if we could notice the differences in the features they were trained on. "
   ]
  },
  {
   "cell_type": "code",
   "execution_count": null,
   "metadata": {},
   "outputs": [],
   "source": []
  }
 ],
 "metadata": {
  "kernelspec": {
   "display_name": "Python 3",
   "language": "python",
   "name": "python3"
  },
  "language_info": {
   "codemirror_mode": {
    "name": "ipython",
    "version": 3
   },
   "file_extension": ".py",
   "mimetype": "text/x-python",
   "name": "python",
   "nbconvert_exporter": "python",
   "pygments_lexer": "ipython3",
   "version": "3.8.2"
  },
  "toc": {
   "base_numbering": 1,
   "nav_menu": {},
   "number_sections": true,
   "sideBar": true,
   "skip_h1_title": false,
   "title_cell": "Table of Contents",
   "title_sidebar": "Contents",
   "toc_cell": false,
   "toc_position": {},
   "toc_section_display": true,
   "toc_window_display": false
  }
 },
 "nbformat": 4,
 "nbformat_minor": 2
}
